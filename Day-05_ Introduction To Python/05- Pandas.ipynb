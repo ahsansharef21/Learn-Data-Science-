{
 "cells": [
  {
   "cell_type": "markdown",
   "metadata": {},
   "source": [
    "# PANDAS"
   ]
  },
  {
   "cell_type": "code",
   "execution_count": 1,
   "metadata": {},
   "outputs": [],
   "source": [
    "import pandas as pd"
   ]
  },
  {
   "cell_type": "code",
   "execution_count": 2,
   "metadata": {},
   "outputs": [
    {
     "data": {
      "text/plain": [
       "0    1\n",
       "1    2\n",
       "2    3\n",
       "3    4\n",
       "4    5\n",
       "dtype: int64"
      ]
     },
     "execution_count": 2,
     "metadata": {},
     "output_type": "execute_result"
    }
   ],
   "source": [
    "s1=pd.Series([1,2,3,4,5])\n",
    "s1"
   ]
  },
  {
   "cell_type": "code",
   "execution_count": 3,
   "metadata": {},
   "outputs": [
    {
     "data": {
      "text/plain": [
       "pandas.core.series.Series"
      ]
     },
     "execution_count": 3,
     "metadata": {},
     "output_type": "execute_result"
    }
   ],
   "source": [
    "type(s1)"
   ]
  },
  {
   "cell_type": "markdown",
   "metadata": {},
   "source": [
    "# Changing index"
   ]
  },
  {
   "cell_type": "code",
   "execution_count": 4,
   "metadata": {},
   "outputs": [
    {
     "data": {
      "text/plain": [
       "A    5\n",
       "B    4\n",
       "C    3\n",
       "D    2\n",
       "E    1\n",
       "dtype: int64"
      ]
     },
     "execution_count": 4,
     "metadata": {},
     "output_type": "execute_result"
    }
   ],
   "source": [
    "s2=pd.Series([5,4,3,2,1], index=['A','B','C','D','E'])\n",
    "s2"
   ]
  },
  {
   "cell_type": "code",
   "execution_count": 5,
   "metadata": {},
   "outputs": [
    {
     "data": {
      "text/plain": [
       "pandas.core.series.Series"
      ]
     },
     "execution_count": 5,
     "metadata": {},
     "output_type": "execute_result"
    }
   ],
   "source": [
    "type(s2)"
   ]
  },
  {
   "cell_type": "markdown",
   "metadata": {},
   "source": [
    "# Series object  from the Dictionary"
   ]
  },
  {
   "cell_type": "code",
   "execution_count": 6,
   "metadata": {},
   "outputs": [
    {
     "data": {
      "text/plain": [
       "a    10\n",
       "b    20\n",
       "c    30\n",
       "dtype: int64"
      ]
     },
     "execution_count": 6,
     "metadata": {},
     "output_type": "execute_result"
    }
   ],
   "source": [
    "s3=pd.Series({'a':10 ,'b': 20 , 'c':30})\n",
    "s3"
   ]
  },
  {
   "cell_type": "markdown",
   "metadata": {},
   "source": [
    "-  ### CHANGING INDEX OF THE SERIES OBJECT OF THE DICTIONARY\n"
   ]
  },
  {
   "cell_type": "code",
   "execution_count": 4,
   "metadata": {},
   "outputs": [
    {
     "data": {
      "text/plain": [
       "a    10.0\n",
       "C     NaN\n",
       "b    20.0\n",
       "A     NaN\n",
       "c    30.0\n",
       "dtype: float64"
      ]
     },
     "execution_count": 4,
     "metadata": {},
     "output_type": "execute_result"
    }
   ],
   "source": [
    "s4=pd.Series({'a':10 ,'b': 20 , 'c':30},index=['a','C','b','A','c'])\n",
    "s4"
   ]
  },
  {
   "cell_type": "markdown",
   "metadata": {},
   "source": [
    "## EXTRACT INDIVISUAL VALUES"
   ]
  },
  {
   "cell_type": "code",
   "execution_count": 5,
   "metadata": {},
   "outputs": [
    {
     "data": {
      "text/plain": [
       "33"
      ]
     },
     "execution_count": 5,
     "metadata": {},
     "output_type": "execute_result"
    }
   ],
   "source": [
    "a1=pd.Series([11,22,33,44,55])\n",
    "a1[2]"
   ]
  },
  {
   "cell_type": "code",
   "execution_count": 6,
   "metadata": {},
   "outputs": [
    {
     "data": {
      "text/plain": [
       "b    22\n",
       "c    33\n",
       "dtype: int64"
      ]
     },
     "execution_count": 6,
     "metadata": {},
     "output_type": "execute_result"
    }
   ],
   "source": [
    "a2=pd.Series([11,22,33,] ,index=['a','b','c' ]) \n",
    "a2[-2:]"
   ]
  },
  {
   "cell_type": "code",
   "execution_count": 7,
   "metadata": {},
   "outputs": [],
   "source": [
    "a3=pd.Series([5,4,3,2,1], index=['A','B','C','D','E'])"
   ]
  },
  {
   "cell_type": "code",
   "execution_count": 8,
   "metadata": {},
   "outputs": [
    {
     "data": {
      "text/plain": [
       "C    3\n",
       "D    2\n",
       "E    1\n",
       "dtype: int64"
      ]
     },
     "execution_count": 8,
     "metadata": {},
     "output_type": "execute_result"
    }
   ],
   "source": [
    "a3[2:]"
   ]
  },
  {
   "cell_type": "markdown",
   "metadata": {},
   "source": [
    "## Basic Math Opertion"
   ]
  },
  {
   "cell_type": "code",
   "execution_count": 9,
   "metadata": {},
   "outputs": [],
   "source": [
    "# Add Scalar value into the Series"
   ]
  },
  {
   "cell_type": "code",
   "execution_count": 10,
   "metadata": {},
   "outputs": [
    {
     "data": {
      "text/plain": [
       "a    11\n",
       "b    12\n",
       "c    13\n",
       "d    14\n",
       "e    15\n",
       "f    16\n",
       "dtype: int64"
      ]
     },
     "execution_count": 10,
     "metadata": {},
     "output_type": "execute_result"
    }
   ],
   "source": [
    "b=pd.Series([11,12,13,14,15,16], index=[\"a\",\"b\",\"c\",\"d\",\"e\",\"f\"])\n",
    "b"
   ]
  },
  {
   "cell_type": "code",
   "execution_count": 11,
   "metadata": {},
   "outputs": [
    {
     "data": {
      "text/plain": [
       "a    21\n",
       "b    22\n",
       "c    23\n",
       "d    24\n",
       "e    25\n",
       "f    26\n",
       "dtype: int64"
      ]
     },
     "execution_count": 11,
     "metadata": {},
     "output_type": "execute_result"
    }
   ],
   "source": [
    "b+10"
   ]
  },
  {
   "cell_type": "code",
   "execution_count": 12,
   "metadata": {},
   "outputs": [],
   "source": [
    "# ADD TWO SERIES OBJECT"
   ]
  },
  {
   "cell_type": "code",
   "execution_count": 13,
   "metadata": {},
   "outputs": [
    {
     "data": {
      "text/plain": [
       "0    55\n",
       "1    44\n",
       "2    33\n",
       "3    22\n",
       "4    11\n",
       "dtype: int64"
      ]
     },
     "execution_count": 13,
     "metadata": {},
     "output_type": "execute_result"
    }
   ],
   "source": [
    "a9=pd.Series([55,44,33,22,11])\n",
    "a8=pd.Series([11,22,33,33,44])\n",
    "a9"
   ]
  },
  {
   "cell_type": "code",
   "execution_count": 14,
   "metadata": {},
   "outputs": [
    {
     "data": {
      "text/plain": [
       "0    11\n",
       "1    22\n",
       "2    33\n",
       "3    33\n",
       "4    44\n",
       "dtype: int64"
      ]
     },
     "execution_count": 14,
     "metadata": {},
     "output_type": "execute_result"
    }
   ],
   "source": [
    "a8"
   ]
  },
  {
   "cell_type": "code",
   "execution_count": 15,
   "metadata": {},
   "outputs": [
    {
     "data": {
      "text/plain": [
       "0    66\n",
       "1    66\n",
       "2    66\n",
       "3    55\n",
       "4    55\n",
       "dtype: int64"
      ]
     },
     "execution_count": 15,
     "metadata": {},
     "output_type": "execute_result"
    }
   ],
   "source": [
    "a7=a9+a8\n",
    "a7"
   ]
  },
  {
   "cell_type": "code",
   "execution_count": 16,
   "metadata": {},
   "outputs": [
    {
     "data": {
      "text/plain": [
       "0    56\n",
       "1    56\n",
       "2    56\n",
       "3    45\n",
       "4    45\n",
       "dtype: int64"
      ]
     },
     "execution_count": 16,
     "metadata": {},
     "output_type": "execute_result"
    }
   ],
   "source": [
    "a7-10"
   ]
  },
  {
   "cell_type": "code",
   "execution_count": 17,
   "metadata": {},
   "outputs": [
    {
     "data": {
      "text/plain": [
       "0    132\n",
       "1    132\n",
       "2    132\n",
       "3    110\n",
       "4    110\n",
       "dtype: int64"
      ]
     },
     "execution_count": 17,
     "metadata": {},
     "output_type": "execute_result"
    }
   ],
   "source": [
    "a7*2"
   ]
  },
  {
   "cell_type": "code",
   "execution_count": 18,
   "metadata": {},
   "outputs": [
    {
     "data": {
      "text/plain": [
       "0    6.6\n",
       "1    6.6\n",
       "2    6.6\n",
       "3    5.5\n",
       "4    5.5\n",
       "dtype: float64"
      ]
     },
     "execution_count": 18,
     "metadata": {},
     "output_type": "execute_result"
    }
   ],
   "source": [
    "a7/10"
   ]
  },
  {
   "cell_type": "code",
   "execution_count": null,
   "metadata": {},
   "outputs": [],
   "source": []
  },
  {
   "cell_type": "markdown",
   "metadata": {},
   "source": [
    "## EXTRACT ELEMENTS FROM THE SERIES"
   ]
  },
  {
   "cell_type": "code",
   "execution_count": 19,
   "metadata": {},
   "outputs": [
    {
     "data": {
      "text/plain": [
       "0    55\n",
       "1    44\n",
       "2    33\n",
       "3    22\n",
       "4    11\n",
       "dtype: int64"
      ]
     },
     "execution_count": 19,
     "metadata": {},
     "output_type": "execute_result"
    }
   ],
   "source": [
    "a9=pd.Series([55,44,33,22,11])\n",
    "a9"
   ]
  },
  {
   "cell_type": "code",
   "execution_count": 20,
   "metadata": {},
   "outputs": [
    {
     "data": {
      "text/plain": [
       "33"
      ]
     },
     "execution_count": 20,
     "metadata": {},
     "output_type": "execute_result"
    }
   ],
   "source": [
    "a9[2]"
   ]
  },
  {
   "cell_type": "code",
   "execution_count": 21,
   "metadata": {},
   "outputs": [
    {
     "data": {
      "text/plain": [
       "11"
      ]
     },
     "execution_count": 21,
     "metadata": {},
     "output_type": "execute_result"
    }
   ],
   "source": [
    "a9[4]"
   ]
  },
  {
   "cell_type": "code",
   "execution_count": 22,
   "metadata": {},
   "outputs": [
    {
     "data": {
      "text/plain": [
       "3    22\n",
       "4    11\n",
       "dtype: int64"
      ]
     },
     "execution_count": 22,
     "metadata": {},
     "output_type": "execute_result"
    }
   ],
   "source": [
    "a9[-2:]"
   ]
  },
  {
   "cell_type": "code",
   "execution_count": 23,
   "metadata": {},
   "outputs": [
    {
     "data": {
      "text/plain": [
       "2    33\n",
       "3    22\n",
       "4    11\n",
       "dtype: int64"
      ]
     },
     "execution_count": 23,
     "metadata": {},
     "output_type": "execute_result"
    }
   ],
   "source": [
    "a9[2:]"
   ]
  },
  {
   "cell_type": "markdown",
   "metadata": {},
   "source": [
    "# Pandas DataFrame\n",
    "- Dataframe is a 2- dimentional labbled data structure,\n",
    "\n",
    "- Dataframe Comprieses of rows and coulmn."
   ]
  },
  {
   "cell_type": "code",
   "execution_count": 25,
   "metadata": {},
   "outputs": [
    {
     "data": {
      "text/html": [
       "<div>\n",
       "<style scoped>\n",
       "    .dataframe tbody tr th:only-of-type {\n",
       "        vertical-align: middle;\n",
       "    }\n",
       "\n",
       "    .dataframe tbody tr th {\n",
       "        vertical-align: top;\n",
       "    }\n",
       "\n",
       "    .dataframe thead th {\n",
       "        text-align: right;\n",
       "    }\n",
       "</style>\n",
       "<table border=\"1\" class=\"dataframe\">\n",
       "  <thead>\n",
       "    <tr style=\"text-align: right;\">\n",
       "      <th></th>\n",
       "      <th>Name</th>\n",
       "      <th>Marks</th>\n",
       "    </tr>\n",
       "  </thead>\n",
       "  <tbody>\n",
       "    <tr>\n",
       "      <th>A</th>\n",
       "      <td>Ahsan</td>\n",
       "      <td>80</td>\n",
       "    </tr>\n",
       "    <tr>\n",
       "      <th>B</th>\n",
       "      <td>Raza</td>\n",
       "      <td>70</td>\n",
       "    </tr>\n",
       "    <tr>\n",
       "      <th>C</th>\n",
       "      <td>Ehsen</td>\n",
       "      <td>90</td>\n",
       "    </tr>\n",
       "  </tbody>\n",
       "</table>\n",
       "</div>"
      ],
      "text/plain": [
       "    Name  Marks\n",
       "A  Ahsan     80\n",
       "B   Raza     70\n",
       "C  Ehsen     90"
      ]
     },
     "execution_count": 25,
     "metadata": {},
     "output_type": "execute_result"
    }
   ],
   "source": [
    "pd.DataFrame({'Name':[\"Ahsan\",\"Raza\", \"Ehsen\"],'Marks':[80,70,90]} ,index=['A','B','C',])"
   ]
  },
  {
   "cell_type": "markdown",
   "metadata": {},
   "source": [
    "### <span style= \"color:green\">Data Frame In bulit functions\n",
    "\n",
    "* 1- head()  used to see 1st five rows of the data frame \n",
    "\n",
    "* 2- shape()    used to see no of Rows and coulmn\n",
    "\n",
    "* 3- tail()  used to see last five rows of the dataFrame\n",
    "\n",
    "* 4- describe()  used to see Genral information about Dataframe"
   ]
  },
  {
   "cell_type": "code",
   "execution_count": 38,
   "metadata": {},
   "outputs": [
    {
     "data": {
      "text/html": [
       "<div>\n",
       "<style scoped>\n",
       "    .dataframe tbody tr th:only-of-type {\n",
       "        vertical-align: middle;\n",
       "    }\n",
       "\n",
       "    .dataframe tbody tr th {\n",
       "        vertical-align: top;\n",
       "    }\n",
       "\n",
       "    .dataframe thead th {\n",
       "        text-align: right;\n",
       "    }\n",
       "</style>\n",
       "<table border=\"1\" class=\"dataframe\">\n",
       "  <thead>\n",
       "    <tr style=\"text-align: right;\">\n",
       "      <th></th>\n",
       "      <th>Name</th>\n",
       "      <th>Marks</th>\n",
       "      <th>Book</th>\n",
       "      <th>fee</th>\n",
       "      <th>Distance</th>\n",
       "      <th>College</th>\n",
       "    </tr>\n",
       "  </thead>\n",
       "  <tbody>\n",
       "    <tr>\n",
       "      <th>0</th>\n",
       "      <td>Ahsan</td>\n",
       "      <td>50</td>\n",
       "      <td>english</td>\n",
       "      <td>50.000000</td>\n",
       "      <td>10</td>\n",
       "      <td>GC</td>\n",
       "    </tr>\n",
       "    <tr>\n",
       "      <th>1</th>\n",
       "      <td>Ali Raza</td>\n",
       "      <td>80</td>\n",
       "      <td>urdu</td>\n",
       "      <td>100.000000</td>\n",
       "      <td>20</td>\n",
       "      <td>GC</td>\n",
       "    </tr>\n",
       "    <tr>\n",
       "      <th>2</th>\n",
       "      <td>Ahsan</td>\n",
       "      <td>110</td>\n",
       "      <td>english</td>\n",
       "      <td>200.000000</td>\n",
       "      <td>30</td>\n",
       "      <td>GC</td>\n",
       "    </tr>\n",
       "    <tr>\n",
       "      <th>3</th>\n",
       "      <td>Ahsan</td>\n",
       "      <td>140</td>\n",
       "      <td>urdu</td>\n",
       "      <td>266.666667</td>\n",
       "      <td>40</td>\n",
       "      <td>GC</td>\n",
       "    </tr>\n",
       "    <tr>\n",
       "      <th>4</th>\n",
       "      <td>Ahsan</td>\n",
       "      <td>170</td>\n",
       "      <td>english</td>\n",
       "      <td>341.666667</td>\n",
       "      <td>50</td>\n",
       "      <td>GC</td>\n",
       "    </tr>\n",
       "    <tr>\n",
       "      <th>...</th>\n",
       "      <td>...</td>\n",
       "      <td>...</td>\n",
       "      <td>...</td>\n",
       "      <td>...</td>\n",
       "      <td>...</td>\n",
       "      <td>...</td>\n",
       "    </tr>\n",
       "    <tr>\n",
       "      <th>771</th>\n",
       "      <td>ali</td>\n",
       "      <td>7700</td>\n",
       "      <td>urdu</td>\n",
       "      <td>57366.666670</td>\n",
       "      <td>2560</td>\n",
       "      <td>GC</td>\n",
       "    </tr>\n",
       "    <tr>\n",
       "      <th>772</th>\n",
       "      <td>ali</td>\n",
       "      <td>7730</td>\n",
       "      <td>english</td>\n",
       "      <td>57591.666670</td>\n",
       "      <td>2570</td>\n",
       "      <td>GC</td>\n",
       "    </tr>\n",
       "    <tr>\n",
       "      <th>773</th>\n",
       "      <td>ali</td>\n",
       "      <td>7760</td>\n",
       "      <td>urdu</td>\n",
       "      <td>57816.666670</td>\n",
       "      <td>2580</td>\n",
       "      <td>GC</td>\n",
       "    </tr>\n",
       "    <tr>\n",
       "      <th>774</th>\n",
       "      <td>Ahsan</td>\n",
       "      <td>7790</td>\n",
       "      <td>english</td>\n",
       "      <td>58041.666670</td>\n",
       "      <td>2590</td>\n",
       "      <td>GC</td>\n",
       "    </tr>\n",
       "    <tr>\n",
       "      <th>775</th>\n",
       "      <td>Ahsan</td>\n",
       "      <td>7820</td>\n",
       "      <td>urdu</td>\n",
       "      <td>58266.666670</td>\n",
       "      <td>2600</td>\n",
       "      <td>NaN</td>\n",
       "    </tr>\n",
       "  </tbody>\n",
       "</table>\n",
       "<p>776 rows × 6 columns</p>\n",
       "</div>"
      ],
      "text/plain": [
       "        Name   Marks     Book           fee  Distance College\n",
       "0       Ahsan     50  english     50.000000        10      GC\n",
       "1    Ali Raza     80     urdu    100.000000        20      GC\n",
       "2       Ahsan    110  english    200.000000        30      GC\n",
       "3       Ahsan    140     urdu    266.666667        40      GC\n",
       "4       Ahsan    170  english    341.666667        50      GC\n",
       "..        ...    ...      ...           ...       ...     ...\n",
       "771       ali   7700     urdu  57366.666670      2560      GC\n",
       "772       ali   7730  english  57591.666670      2570      GC\n",
       "773       ali   7760     urdu  57816.666670      2580      GC\n",
       "774     Ahsan   7790  english  58041.666670      2590      GC\n",
       "775     Ahsan   7820     urdu  58266.666670      2600     NaN\n",
       "\n",
       "[776 rows x 6 columns]"
      ]
     },
     "execution_count": 38,
     "metadata": {},
     "output_type": "execute_result"
    }
   ],
   "source": [
    "book=pd.read_csv(\"book.csv\")\n",
    "book"
   ]
  },
  {
   "cell_type": "code",
   "execution_count": 39,
   "metadata": {},
   "outputs": [
    {
     "data": {
      "text/plain": [
       "(776, 6)"
      ]
     },
     "execution_count": 39,
     "metadata": {},
     "output_type": "execute_result"
    }
   ],
   "source": [
    "book.shape"
   ]
  },
  {
   "cell_type": "code",
   "execution_count": 40,
   "metadata": {},
   "outputs": [
    {
     "data": {
      "text/html": [
       "<div>\n",
       "<style scoped>\n",
       "    .dataframe tbody tr th:only-of-type {\n",
       "        vertical-align: middle;\n",
       "    }\n",
       "\n",
       "    .dataframe tbody tr th {\n",
       "        vertical-align: top;\n",
       "    }\n",
       "\n",
       "    .dataframe thead th {\n",
       "        text-align: right;\n",
       "    }\n",
       "</style>\n",
       "<table border=\"1\" class=\"dataframe\">\n",
       "  <thead>\n",
       "    <tr style=\"text-align: right;\">\n",
       "      <th></th>\n",
       "      <th>Name</th>\n",
       "      <th>Marks</th>\n",
       "      <th>Book</th>\n",
       "      <th>fee</th>\n",
       "      <th>Distance</th>\n",
       "      <th>College</th>\n",
       "    </tr>\n",
       "  </thead>\n",
       "  <tbody>\n",
       "    <tr>\n",
       "      <th>0</th>\n",
       "      <td>Ahsan</td>\n",
       "      <td>50</td>\n",
       "      <td>english</td>\n",
       "      <td>50.000000</td>\n",
       "      <td>10</td>\n",
       "      <td>GC</td>\n",
       "    </tr>\n",
       "    <tr>\n",
       "      <th>1</th>\n",
       "      <td>Ali Raza</td>\n",
       "      <td>80</td>\n",
       "      <td>urdu</td>\n",
       "      <td>100.000000</td>\n",
       "      <td>20</td>\n",
       "      <td>GC</td>\n",
       "    </tr>\n",
       "    <tr>\n",
       "      <th>2</th>\n",
       "      <td>Ahsan</td>\n",
       "      <td>110</td>\n",
       "      <td>english</td>\n",
       "      <td>200.000000</td>\n",
       "      <td>30</td>\n",
       "      <td>GC</td>\n",
       "    </tr>\n",
       "    <tr>\n",
       "      <th>3</th>\n",
       "      <td>Ahsan</td>\n",
       "      <td>140</td>\n",
       "      <td>urdu</td>\n",
       "      <td>266.666667</td>\n",
       "      <td>40</td>\n",
       "      <td>GC</td>\n",
       "    </tr>\n",
       "    <tr>\n",
       "      <th>4</th>\n",
       "      <td>Ahsan</td>\n",
       "      <td>170</td>\n",
       "      <td>english</td>\n",
       "      <td>341.666667</td>\n",
       "      <td>50</td>\n",
       "      <td>GC</td>\n",
       "    </tr>\n",
       "  </tbody>\n",
       "</table>\n",
       "</div>"
      ],
      "text/plain": [
       "      Name   Marks     Book         fee  Distance College\n",
       "0     Ahsan     50  english   50.000000        10      GC\n",
       "1  Ali Raza     80     urdu  100.000000        20      GC\n",
       "2     Ahsan    110  english  200.000000        30      GC\n",
       "3     Ahsan    140     urdu  266.666667        40      GC\n",
       "4     Ahsan    170  english  341.666667        50      GC"
      ]
     },
     "execution_count": 40,
     "metadata": {},
     "output_type": "execute_result"
    }
   ],
   "source": [
    "book.head()"
   ]
  },
  {
   "cell_type": "code",
   "execution_count": null,
   "metadata": {},
   "outputs": [],
   "source": []
  },
  {
   "cell_type": "code",
   "execution_count": 41,
   "metadata": {},
   "outputs": [
    {
     "data": {
      "text/html": [
       "<div>\n",
       "<style scoped>\n",
       "    .dataframe tbody tr th:only-of-type {\n",
       "        vertical-align: middle;\n",
       "    }\n",
       "\n",
       "    .dataframe tbody tr th {\n",
       "        vertical-align: top;\n",
       "    }\n",
       "\n",
       "    .dataframe thead th {\n",
       "        text-align: right;\n",
       "    }\n",
       "</style>\n",
       "<table border=\"1\" class=\"dataframe\">\n",
       "  <thead>\n",
       "    <tr style=\"text-align: right;\">\n",
       "      <th></th>\n",
       "      <th>Name</th>\n",
       "      <th>Marks</th>\n",
       "      <th>Book</th>\n",
       "      <th>fee</th>\n",
       "      <th>Distance</th>\n",
       "      <th>College</th>\n",
       "    </tr>\n",
       "  </thead>\n",
       "  <tbody>\n",
       "    <tr>\n",
       "      <th>771</th>\n",
       "      <td>ali</td>\n",
       "      <td>7700</td>\n",
       "      <td>urdu</td>\n",
       "      <td>57366.66667</td>\n",
       "      <td>2560</td>\n",
       "      <td>GC</td>\n",
       "    </tr>\n",
       "    <tr>\n",
       "      <th>772</th>\n",
       "      <td>ali</td>\n",
       "      <td>7730</td>\n",
       "      <td>english</td>\n",
       "      <td>57591.66667</td>\n",
       "      <td>2570</td>\n",
       "      <td>GC</td>\n",
       "    </tr>\n",
       "    <tr>\n",
       "      <th>773</th>\n",
       "      <td>ali</td>\n",
       "      <td>7760</td>\n",
       "      <td>urdu</td>\n",
       "      <td>57816.66667</td>\n",
       "      <td>2580</td>\n",
       "      <td>GC</td>\n",
       "    </tr>\n",
       "    <tr>\n",
       "      <th>774</th>\n",
       "      <td>Ahsan</td>\n",
       "      <td>7790</td>\n",
       "      <td>english</td>\n",
       "      <td>58041.66667</td>\n",
       "      <td>2590</td>\n",
       "      <td>GC</td>\n",
       "    </tr>\n",
       "    <tr>\n",
       "      <th>775</th>\n",
       "      <td>Ahsan</td>\n",
       "      <td>7820</td>\n",
       "      <td>urdu</td>\n",
       "      <td>58266.66667</td>\n",
       "      <td>2600</td>\n",
       "      <td>NaN</td>\n",
       "    </tr>\n",
       "  </tbody>\n",
       "</table>\n",
       "</div>"
      ],
      "text/plain": [
       "     Name   Marks     Book          fee  Distance College\n",
       "771    ali   7700     urdu  57366.66667      2560      GC\n",
       "772    ali   7730  english  57591.66667      2570      GC\n",
       "773    ali   7760     urdu  57816.66667      2580      GC\n",
       "774  Ahsan   7790  english  58041.66667      2590      GC\n",
       "775  Ahsan   7820     urdu  58266.66667      2600     NaN"
      ]
     },
     "execution_count": 41,
     "metadata": {},
     "output_type": "execute_result"
    }
   ],
   "source": [
    "book.tail() # Print last 5 Rows "
   ]
  },
  {
   "cell_type": "code",
   "execution_count": 42,
   "metadata": {},
   "outputs": [
    {
     "data": {
      "text/plain": [
       "(776, 6)"
      ]
     },
     "execution_count": 42,
     "metadata": {},
     "output_type": "execute_result"
    }
   ],
   "source": [
    "book.shape"
   ]
  },
  {
   "cell_type": "code",
   "execution_count": 43,
   "metadata": {},
   "outputs": [
    {
     "data": {
      "text/html": [
       "<div>\n",
       "<style scoped>\n",
       "    .dataframe tbody tr th:only-of-type {\n",
       "        vertical-align: middle;\n",
       "    }\n",
       "\n",
       "    .dataframe tbody tr th {\n",
       "        vertical-align: top;\n",
       "    }\n",
       "\n",
       "    .dataframe thead th {\n",
       "        text-align: right;\n",
       "    }\n",
       "</style>\n",
       "<table border=\"1\" class=\"dataframe\">\n",
       "  <thead>\n",
       "    <tr style=\"text-align: right;\">\n",
       "      <th></th>\n",
       "      <th>Marks</th>\n",
       "      <th>fee</th>\n",
       "      <th>Distance</th>\n",
       "    </tr>\n",
       "  </thead>\n",
       "  <tbody>\n",
       "    <tr>\n",
       "      <th>count</th>\n",
       "      <td>776.000000</td>\n",
       "      <td>776.000000</td>\n",
       "      <td>776.000000</td>\n",
       "    </tr>\n",
       "    <tr>\n",
       "      <th>mean</th>\n",
       "      <td>4746.198454</td>\n",
       "      <td>35208.258165</td>\n",
       "      <td>1575.399485</td>\n",
       "    </tr>\n",
       "    <tr>\n",
       "      <th>std</th>\n",
       "      <td>2017.279191</td>\n",
       "      <td>15140.744855</td>\n",
       "      <td>672.426397</td>\n",
       "    </tr>\n",
       "    <tr>\n",
       "      <th>min</th>\n",
       "      <td>50.000000</td>\n",
       "      <td>50.000000</td>\n",
       "      <td>10.000000</td>\n",
       "    </tr>\n",
       "    <tr>\n",
       "      <th>25%</th>\n",
       "      <td>3410.000000</td>\n",
       "      <td>25191.666670</td>\n",
       "      <td>1130.000000</td>\n",
       "    </tr>\n",
       "    <tr>\n",
       "      <th>50%</th>\n",
       "      <td>4970.000000</td>\n",
       "      <td>36891.666670</td>\n",
       "      <td>1650.000000</td>\n",
       "    </tr>\n",
       "    <tr>\n",
       "      <th>75%</th>\n",
       "      <td>6410.000000</td>\n",
       "      <td>47691.666670</td>\n",
       "      <td>2130.000000</td>\n",
       "    </tr>\n",
       "    <tr>\n",
       "      <th>max</th>\n",
       "      <td>7880.000000</td>\n",
       "      <td>58716.666670</td>\n",
       "      <td>2620.000000</td>\n",
       "    </tr>\n",
       "  </tbody>\n",
       "</table>\n",
       "</div>"
      ],
      "text/plain": [
       "             Marks           fee     Distance\n",
       "count   776.000000    776.000000   776.000000\n",
       "mean   4746.198454  35208.258165  1575.399485\n",
       "std    2017.279191  15140.744855   672.426397\n",
       "min      50.000000     50.000000    10.000000\n",
       "25%    3410.000000  25191.666670  1130.000000\n",
       "50%    4970.000000  36891.666670  1650.000000\n",
       "75%    6410.000000  47691.666670  2130.000000\n",
       "max    7880.000000  58716.666670  2620.000000"
      ]
     },
     "execution_count": 43,
     "metadata": {},
     "output_type": "execute_result"
    }
   ],
   "source": [
    "book.describe()"
   ]
  },
  {
   "cell_type": "markdown",
   "metadata": {},
   "source": [
    "## .iloc[] Method\n",
    "\n",
    "-  Give column index"
   ]
  },
  {
   "cell_type": "code",
   "execution_count": 44,
   "metadata": {},
   "outputs": [
    {
     "data": {
      "text/html": [
       "<div>\n",
       "<style scoped>\n",
       "    .dataframe tbody tr th:only-of-type {\n",
       "        vertical-align: middle;\n",
       "    }\n",
       "\n",
       "    .dataframe tbody tr th {\n",
       "        vertical-align: top;\n",
       "    }\n",
       "\n",
       "    .dataframe thead th {\n",
       "        text-align: right;\n",
       "    }\n",
       "</style>\n",
       "<table border=\"1\" class=\"dataframe\">\n",
       "  <thead>\n",
       "    <tr style=\"text-align: right;\">\n",
       "      <th></th>\n",
       "      <th>Name</th>\n",
       "      <th>Marks</th>\n",
       "      <th>Book</th>\n",
       "      <th>fee</th>\n",
       "      <th>Distance</th>\n",
       "      <th>College</th>\n",
       "    </tr>\n",
       "  </thead>\n",
       "  <tbody>\n",
       "    <tr>\n",
       "      <th>0</th>\n",
       "      <td>Ahsan</td>\n",
       "      <td>50</td>\n",
       "      <td>english</td>\n",
       "      <td>50.000000</td>\n",
       "      <td>10</td>\n",
       "      <td>GC</td>\n",
       "    </tr>\n",
       "    <tr>\n",
       "      <th>1</th>\n",
       "      <td>Ali Raza</td>\n",
       "      <td>80</td>\n",
       "      <td>urdu</td>\n",
       "      <td>100.000000</td>\n",
       "      <td>20</td>\n",
       "      <td>GC</td>\n",
       "    </tr>\n",
       "    <tr>\n",
       "      <th>2</th>\n",
       "      <td>Ahsan</td>\n",
       "      <td>110</td>\n",
       "      <td>english</td>\n",
       "      <td>200.000000</td>\n",
       "      <td>30</td>\n",
       "      <td>GC</td>\n",
       "    </tr>\n",
       "    <tr>\n",
       "      <th>3</th>\n",
       "      <td>Ahsan</td>\n",
       "      <td>140</td>\n",
       "      <td>urdu</td>\n",
       "      <td>266.666667</td>\n",
       "      <td>40</td>\n",
       "      <td>GC</td>\n",
       "    </tr>\n",
       "    <tr>\n",
       "      <th>4</th>\n",
       "      <td>Ahsan</td>\n",
       "      <td>170</td>\n",
       "      <td>english</td>\n",
       "      <td>341.666667</td>\n",
       "      <td>50</td>\n",
       "      <td>GC</td>\n",
       "    </tr>\n",
       "    <tr>\n",
       "      <th>...</th>\n",
       "      <td>...</td>\n",
       "      <td>...</td>\n",
       "      <td>...</td>\n",
       "      <td>...</td>\n",
       "      <td>...</td>\n",
       "      <td>...</td>\n",
       "    </tr>\n",
       "    <tr>\n",
       "      <th>771</th>\n",
       "      <td>ali</td>\n",
       "      <td>7700</td>\n",
       "      <td>urdu</td>\n",
       "      <td>57366.666670</td>\n",
       "      <td>2560</td>\n",
       "      <td>GC</td>\n",
       "    </tr>\n",
       "    <tr>\n",
       "      <th>772</th>\n",
       "      <td>ali</td>\n",
       "      <td>7730</td>\n",
       "      <td>english</td>\n",
       "      <td>57591.666670</td>\n",
       "      <td>2570</td>\n",
       "      <td>GC</td>\n",
       "    </tr>\n",
       "    <tr>\n",
       "      <th>773</th>\n",
       "      <td>ali</td>\n",
       "      <td>7760</td>\n",
       "      <td>urdu</td>\n",
       "      <td>57816.666670</td>\n",
       "      <td>2580</td>\n",
       "      <td>GC</td>\n",
       "    </tr>\n",
       "    <tr>\n",
       "      <th>774</th>\n",
       "      <td>Ahsan</td>\n",
       "      <td>7790</td>\n",
       "      <td>english</td>\n",
       "      <td>58041.666670</td>\n",
       "      <td>2590</td>\n",
       "      <td>GC</td>\n",
       "    </tr>\n",
       "    <tr>\n",
       "      <th>775</th>\n",
       "      <td>Ahsan</td>\n",
       "      <td>7820</td>\n",
       "      <td>urdu</td>\n",
       "      <td>58266.666670</td>\n",
       "      <td>2600</td>\n",
       "      <td>NaN</td>\n",
       "    </tr>\n",
       "  </tbody>\n",
       "</table>\n",
       "<p>776 rows × 6 columns</p>\n",
       "</div>"
      ],
      "text/plain": [
       "        Name   Marks     Book           fee  Distance College\n",
       "0       Ahsan     50  english     50.000000        10      GC\n",
       "1    Ali Raza     80     urdu    100.000000        20      GC\n",
       "2       Ahsan    110  english    200.000000        30      GC\n",
       "3       Ahsan    140     urdu    266.666667        40      GC\n",
       "4       Ahsan    170  english    341.666667        50      GC\n",
       "..        ...    ...      ...           ...       ...     ...\n",
       "771       ali   7700     urdu  57366.666670      2560      GC\n",
       "772       ali   7730  english  57591.666670      2570      GC\n",
       "773       ali   7760     urdu  57816.666670      2580      GC\n",
       "774     Ahsan   7790  english  58041.666670      2590      GC\n",
       "775     Ahsan   7820     urdu  58266.666670      2600     NaN\n",
       "\n",
       "[776 rows x 6 columns]"
      ]
     },
     "execution_count": 44,
     "metadata": {},
     "output_type": "execute_result"
    }
   ],
   "source": [
    "book=pd.read_csv(\"book.csv\")\n",
    "book"
   ]
  },
  {
   "cell_type": "code",
   "execution_count": 33,
   "metadata": {},
   "outputs": [
    {
     "data": {
      "text/html": [
       "<div>\n",
       "<style scoped>\n",
       "    .dataframe tbody tr th:only-of-type {\n",
       "        vertical-align: middle;\n",
       "    }\n",
       "\n",
       "    .dataframe tbody tr th {\n",
       "        vertical-align: top;\n",
       "    }\n",
       "\n",
       "    .dataframe thead th {\n",
       "        text-align: right;\n",
       "    }\n",
       "</style>\n",
       "<table border=\"1\" class=\"dataframe\">\n",
       "  <thead>\n",
       "    <tr style=\"text-align: right;\">\n",
       "      <th></th>\n",
       "      <th>Name</th>\n",
       "      <th>Marks</th>\n",
       "      <th>Book</th>\n",
       "      <th>fee</th>\n",
       "      <th>Distance</th>\n",
       "      <th>College</th>\n",
       "    </tr>\n",
       "  </thead>\n",
       "  <tbody>\n",
       "    <tr>\n",
       "      <th>0</th>\n",
       "      <td>Ahsan</td>\n",
       "      <td>50</td>\n",
       "      <td>english</td>\n",
       "      <td>50.000000</td>\n",
       "      <td>10</td>\n",
       "      <td>GC</td>\n",
       "    </tr>\n",
       "    <tr>\n",
       "      <th>1</th>\n",
       "      <td>Ali Raza</td>\n",
       "      <td>80</td>\n",
       "      <td>urdu</td>\n",
       "      <td>100.000000</td>\n",
       "      <td>20</td>\n",
       "      <td>GC</td>\n",
       "    </tr>\n",
       "    <tr>\n",
       "      <th>2</th>\n",
       "      <td>Ahsan</td>\n",
       "      <td>110</td>\n",
       "      <td>english</td>\n",
       "      <td>200.000000</td>\n",
       "      <td>30</td>\n",
       "      <td>GC</td>\n",
       "    </tr>\n",
       "    <tr>\n",
       "      <th>3</th>\n",
       "      <td>Ahsan</td>\n",
       "      <td>140</td>\n",
       "      <td>urdu</td>\n",
       "      <td>266.666667</td>\n",
       "      <td>40</td>\n",
       "      <td>GC</td>\n",
       "    </tr>\n",
       "    <tr>\n",
       "      <th>4</th>\n",
       "      <td>Ahsan</td>\n",
       "      <td>170</td>\n",
       "      <td>english</td>\n",
       "      <td>341.666667</td>\n",
       "      <td>50</td>\n",
       "      <td>GC</td>\n",
       "    </tr>\n",
       "  </tbody>\n",
       "</table>\n",
       "</div>"
      ],
      "text/plain": [
       "      Name   Marks     Book         fee  Distance College\n",
       "0     Ahsan     50  english   50.000000        10      GC\n",
       "1  Ali Raza     80     urdu  100.000000        20      GC\n",
       "2     Ahsan    110  english  200.000000        30      GC\n",
       "3     Ahsan    140     urdu  266.666667        40      GC\n",
       "4     Ahsan    170  english  341.666667        50      GC"
      ]
     },
     "execution_count": 33,
     "metadata": {},
     "output_type": "execute_result"
    }
   ],
   "source": [
    "book.head()"
   ]
  },
  {
   "cell_type": "code",
   "execution_count": 46,
   "metadata": {},
   "outputs": [
    {
     "data": {
      "text/html": [
       "<div>\n",
       "<style scoped>\n",
       "    .dataframe tbody tr th:only-of-type {\n",
       "        vertical-align: middle;\n",
       "    }\n",
       "\n",
       "    .dataframe tbody tr th {\n",
       "        vertical-align: top;\n",
       "    }\n",
       "\n",
       "    .dataframe thead th {\n",
       "        text-align: right;\n",
       "    }\n",
       "</style>\n",
       "<table border=\"1\" class=\"dataframe\">\n",
       "  <thead>\n",
       "    <tr style=\"text-align: right;\">\n",
       "      <th></th>\n",
       "      <th>Marks</th>\n",
       "      <th>Book</th>\n",
       "      <th>fee</th>\n",
       "      <th>Distance</th>\n",
       "      <th>College</th>\n",
       "    </tr>\n",
       "  </thead>\n",
       "  <tbody>\n",
       "    <tr>\n",
       "      <th>0</th>\n",
       "      <td>50</td>\n",
       "      <td>english</td>\n",
       "      <td>50.000000</td>\n",
       "      <td>10</td>\n",
       "      <td>GC</td>\n",
       "    </tr>\n",
       "    <tr>\n",
       "      <th>1</th>\n",
       "      <td>80</td>\n",
       "      <td>urdu</td>\n",
       "      <td>100.000000</td>\n",
       "      <td>20</td>\n",
       "      <td>GC</td>\n",
       "    </tr>\n",
       "    <tr>\n",
       "      <th>2</th>\n",
       "      <td>110</td>\n",
       "      <td>english</td>\n",
       "      <td>200.000000</td>\n",
       "      <td>30</td>\n",
       "      <td>GC</td>\n",
       "    </tr>\n",
       "    <tr>\n",
       "      <th>3</th>\n",
       "      <td>140</td>\n",
       "      <td>urdu</td>\n",
       "      <td>266.666667</td>\n",
       "      <td>40</td>\n",
       "      <td>GC</td>\n",
       "    </tr>\n",
       "    <tr>\n",
       "      <th>4</th>\n",
       "      <td>170</td>\n",
       "      <td>english</td>\n",
       "      <td>341.666667</td>\n",
       "      <td>50</td>\n",
       "      <td>GC</td>\n",
       "    </tr>\n",
       "    <tr>\n",
       "      <th>5</th>\n",
       "      <td>200</td>\n",
       "      <td>urdu</td>\n",
       "      <td>416.666667</td>\n",
       "      <td>60</td>\n",
       "      <td>GC</td>\n",
       "    </tr>\n",
       "    <tr>\n",
       "      <th>6</th>\n",
       "      <td>230</td>\n",
       "      <td>english</td>\n",
       "      <td>491.666667</td>\n",
       "      <td>70</td>\n",
       "      <td>GC</td>\n",
       "    </tr>\n",
       "    <tr>\n",
       "      <th>7</th>\n",
       "      <td>260</td>\n",
       "      <td>urdu</td>\n",
       "      <td>566.666667</td>\n",
       "      <td>80</td>\n",
       "      <td>GC</td>\n",
       "    </tr>\n",
       "    <tr>\n",
       "      <th>8</th>\n",
       "      <td>290</td>\n",
       "      <td>english</td>\n",
       "      <td>1791.666667</td>\n",
       "      <td>90</td>\n",
       "      <td>GC</td>\n",
       "    </tr>\n",
       "    <tr>\n",
       "      <th>9</th>\n",
       "      <td>320</td>\n",
       "      <td>urdu</td>\n",
       "      <td>2016.666667</td>\n",
       "      <td>100</td>\n",
       "      <td>GC</td>\n",
       "    </tr>\n",
       "  </tbody>\n",
       "</table>\n",
       "</div>"
      ],
      "text/plain": [
       "   Marks     Book          fee  Distance College\n",
       "0     50  english    50.000000        10      GC\n",
       "1     80     urdu   100.000000        20      GC\n",
       "2    110  english   200.000000        30      GC\n",
       "3    140     urdu   266.666667        40      GC\n",
       "4    170  english   341.666667        50      GC\n",
       "5    200     urdu   416.666667        60      GC\n",
       "6    230  english   491.666667        70      GC\n",
       "7    260     urdu   566.666667        80      GC\n",
       "8    290  english  1791.666667        90      GC\n",
       "9    320     urdu  2016.666667       100      GC"
      ]
     },
     "execution_count": 46,
     "metadata": {},
     "output_type": "execute_result"
    }
   ],
   "source": [
    "book.iloc[0:10, 1:]"
   ]
  },
  {
   "cell_type": "code",
   "execution_count": 35,
   "metadata": {},
   "outputs": [
    {
     "data": {
      "text/html": [
       "<div>\n",
       "<style scoped>\n",
       "    .dataframe tbody tr th:only-of-type {\n",
       "        vertical-align: middle;\n",
       "    }\n",
       "\n",
       "    .dataframe tbody tr th {\n",
       "        vertical-align: top;\n",
       "    }\n",
       "\n",
       "    .dataframe thead th {\n",
       "        text-align: right;\n",
       "    }\n",
       "</style>\n",
       "<table border=\"1\" class=\"dataframe\">\n",
       "  <thead>\n",
       "    <tr style=\"text-align: right;\">\n",
       "      <th></th>\n",
       "      <th>Name</th>\n",
       "    </tr>\n",
       "  </thead>\n",
       "  <tbody>\n",
       "    <tr>\n",
       "      <th>0</th>\n",
       "      <td>Ahsan</td>\n",
       "    </tr>\n",
       "    <tr>\n",
       "      <th>1</th>\n",
       "      <td>Ali Raza</td>\n",
       "    </tr>\n",
       "  </tbody>\n",
       "</table>\n",
       "</div>"
      ],
      "text/plain": [
       "      Name \n",
       "0     Ahsan\n",
       "1  Ali Raza"
      ]
     },
     "execution_count": 35,
     "metadata": {},
     "output_type": "execute_result"
    }
   ],
   "source": [
    "book.iloc[0:2,0:1]"
   ]
  },
  {
   "cell_type": "markdown",
   "metadata": {},
   "source": [
    "# .loc Method\n",
    "*  WE GAVE IN  THIS MRTHOD  THE NAME OF COLUMN  NOT INDEX NUMBER"
   ]
  },
  {
   "cell_type": "code",
   "execution_count": 47,
   "metadata": {},
   "outputs": [
    {
     "data": {
      "text/html": [
       "<div>\n",
       "<style scoped>\n",
       "    .dataframe tbody tr th:only-of-type {\n",
       "        vertical-align: middle;\n",
       "    }\n",
       "\n",
       "    .dataframe tbody tr th {\n",
       "        vertical-align: top;\n",
       "    }\n",
       "\n",
       "    .dataframe thead th {\n",
       "        text-align: right;\n",
       "    }\n",
       "</style>\n",
       "<table border=\"1\" class=\"dataframe\">\n",
       "  <thead>\n",
       "    <tr style=\"text-align: right;\">\n",
       "      <th></th>\n",
       "      <th>Name</th>\n",
       "      <th>Marks</th>\n",
       "      <th>Book</th>\n",
       "      <th>fee</th>\n",
       "      <th>Distance</th>\n",
       "      <th>College</th>\n",
       "    </tr>\n",
       "  </thead>\n",
       "  <tbody>\n",
       "    <tr>\n",
       "      <th>0</th>\n",
       "      <td>Ahsan</td>\n",
       "      <td>50</td>\n",
       "      <td>english</td>\n",
       "      <td>50.000000</td>\n",
       "      <td>10</td>\n",
       "      <td>GC</td>\n",
       "    </tr>\n",
       "    <tr>\n",
       "      <th>1</th>\n",
       "      <td>Ali Raza</td>\n",
       "      <td>80</td>\n",
       "      <td>urdu</td>\n",
       "      <td>100.000000</td>\n",
       "      <td>20</td>\n",
       "      <td>GC</td>\n",
       "    </tr>\n",
       "    <tr>\n",
       "      <th>2</th>\n",
       "      <td>Ahsan</td>\n",
       "      <td>110</td>\n",
       "      <td>english</td>\n",
       "      <td>200.000000</td>\n",
       "      <td>30</td>\n",
       "      <td>GC</td>\n",
       "    </tr>\n",
       "    <tr>\n",
       "      <th>3</th>\n",
       "      <td>Ahsan</td>\n",
       "      <td>140</td>\n",
       "      <td>urdu</td>\n",
       "      <td>266.666667</td>\n",
       "      <td>40</td>\n",
       "      <td>GC</td>\n",
       "    </tr>\n",
       "    <tr>\n",
       "      <th>4</th>\n",
       "      <td>Ahsan</td>\n",
       "      <td>170</td>\n",
       "      <td>english</td>\n",
       "      <td>341.666667</td>\n",
       "      <td>50</td>\n",
       "      <td>GC</td>\n",
       "    </tr>\n",
       "    <tr>\n",
       "      <th>...</th>\n",
       "      <td>...</td>\n",
       "      <td>...</td>\n",
       "      <td>...</td>\n",
       "      <td>...</td>\n",
       "      <td>...</td>\n",
       "      <td>...</td>\n",
       "    </tr>\n",
       "    <tr>\n",
       "      <th>771</th>\n",
       "      <td>ali</td>\n",
       "      <td>7700</td>\n",
       "      <td>urdu</td>\n",
       "      <td>57366.666670</td>\n",
       "      <td>2560</td>\n",
       "      <td>GC</td>\n",
       "    </tr>\n",
       "    <tr>\n",
       "      <th>772</th>\n",
       "      <td>ali</td>\n",
       "      <td>7730</td>\n",
       "      <td>english</td>\n",
       "      <td>57591.666670</td>\n",
       "      <td>2570</td>\n",
       "      <td>GC</td>\n",
       "    </tr>\n",
       "    <tr>\n",
       "      <th>773</th>\n",
       "      <td>ali</td>\n",
       "      <td>7760</td>\n",
       "      <td>urdu</td>\n",
       "      <td>57816.666670</td>\n",
       "      <td>2580</td>\n",
       "      <td>GC</td>\n",
       "    </tr>\n",
       "    <tr>\n",
       "      <th>774</th>\n",
       "      <td>Ahsan</td>\n",
       "      <td>7790</td>\n",
       "      <td>english</td>\n",
       "      <td>58041.666670</td>\n",
       "      <td>2590</td>\n",
       "      <td>GC</td>\n",
       "    </tr>\n",
       "    <tr>\n",
       "      <th>775</th>\n",
       "      <td>Ahsan</td>\n",
       "      <td>7820</td>\n",
       "      <td>urdu</td>\n",
       "      <td>58266.666670</td>\n",
       "      <td>2600</td>\n",
       "      <td>NaN</td>\n",
       "    </tr>\n",
       "  </tbody>\n",
       "</table>\n",
       "<p>776 rows × 6 columns</p>\n",
       "</div>"
      ],
      "text/plain": [
       "        Name   Marks     Book           fee  Distance College\n",
       "0       Ahsan     50  english     50.000000        10      GC\n",
       "1    Ali Raza     80     urdu    100.000000        20      GC\n",
       "2       Ahsan    110  english    200.000000        30      GC\n",
       "3       Ahsan    140     urdu    266.666667        40      GC\n",
       "4       Ahsan    170  english    341.666667        50      GC\n",
       "..        ...    ...      ...           ...       ...     ...\n",
       "771       ali   7700     urdu  57366.666670      2560      GC\n",
       "772       ali   7730  english  57591.666670      2570      GC\n",
       "773       ali   7760     urdu  57816.666670      2580      GC\n",
       "774     Ahsan   7790  english  58041.666670      2590      GC\n",
       "775     Ahsan   7820     urdu  58266.666670      2600     NaN\n",
       "\n",
       "[776 rows x 6 columns]"
      ]
     },
     "execution_count": 47,
     "metadata": {},
     "output_type": "execute_result"
    }
   ],
   "source": [
    "book=pd.read_csv(\"book.csv\")\n",
    "book"
   ]
  },
  {
   "cell_type": "code",
   "execution_count": 48,
   "metadata": {},
   "outputs": [
    {
     "data": {
      "text/html": [
       "<div>\n",
       "<style scoped>\n",
       "    .dataframe tbody tr th:only-of-type {\n",
       "        vertical-align: middle;\n",
       "    }\n",
       "\n",
       "    .dataframe tbody tr th {\n",
       "        vertical-align: top;\n",
       "    }\n",
       "\n",
       "    .dataframe thead th {\n",
       "        text-align: right;\n",
       "    }\n",
       "</style>\n",
       "<table border=\"1\" class=\"dataframe\">\n",
       "  <thead>\n",
       "    <tr style=\"text-align: right;\">\n",
       "      <th></th>\n",
       "      <th>Name</th>\n",
       "      <th>Marks</th>\n",
       "      <th>Book</th>\n",
       "      <th>fee</th>\n",
       "      <th>Distance</th>\n",
       "      <th>College</th>\n",
       "    </tr>\n",
       "  </thead>\n",
       "  <tbody>\n",
       "    <tr>\n",
       "      <th>0</th>\n",
       "      <td>Ahsan</td>\n",
       "      <td>50</td>\n",
       "      <td>english</td>\n",
       "      <td>50.000000</td>\n",
       "      <td>10</td>\n",
       "      <td>GC</td>\n",
       "    </tr>\n",
       "    <tr>\n",
       "      <th>1</th>\n",
       "      <td>Ali Raza</td>\n",
       "      <td>80</td>\n",
       "      <td>urdu</td>\n",
       "      <td>100.000000</td>\n",
       "      <td>20</td>\n",
       "      <td>GC</td>\n",
       "    </tr>\n",
       "    <tr>\n",
       "      <th>2</th>\n",
       "      <td>Ahsan</td>\n",
       "      <td>110</td>\n",
       "      <td>english</td>\n",
       "      <td>200.000000</td>\n",
       "      <td>30</td>\n",
       "      <td>GC</td>\n",
       "    </tr>\n",
       "    <tr>\n",
       "      <th>3</th>\n",
       "      <td>Ahsan</td>\n",
       "      <td>140</td>\n",
       "      <td>urdu</td>\n",
       "      <td>266.666667</td>\n",
       "      <td>40</td>\n",
       "      <td>GC</td>\n",
       "    </tr>\n",
       "  </tbody>\n",
       "</table>\n",
       "</div>"
      ],
      "text/plain": [
       "      Name   Marks     Book         fee  Distance College\n",
       "0     Ahsan     50  english   50.000000        10      GC\n",
       "1  Ali Raza     80     urdu  100.000000        20      GC\n",
       "2     Ahsan    110  english  200.000000        30      GC\n",
       "3     Ahsan    140     urdu  266.666667        40      GC"
      ]
     },
     "execution_count": 48,
     "metadata": {},
     "output_type": "execute_result"
    }
   ],
   "source": [
    "book.loc[0:3,]"
   ]
  },
  {
   "cell_type": "code",
   "execution_count": 49,
   "metadata": {},
   "outputs": [
    {
     "data": {
      "text/html": [
       "<div>\n",
       "<style scoped>\n",
       "    .dataframe tbody tr th:only-of-type {\n",
       "        vertical-align: middle;\n",
       "    }\n",
       "\n",
       "    .dataframe tbody tr th {\n",
       "        vertical-align: top;\n",
       "    }\n",
       "\n",
       "    .dataframe thead th {\n",
       "        text-align: right;\n",
       "    }\n",
       "</style>\n",
       "<table border=\"1\" class=\"dataframe\">\n",
       "  <thead>\n",
       "    <tr style=\"text-align: right;\">\n",
       "      <th></th>\n",
       "      <th>Book</th>\n",
       "      <th>Marks</th>\n",
       "    </tr>\n",
       "  </thead>\n",
       "  <tbody>\n",
       "    <tr>\n",
       "      <th>0</th>\n",
       "      <td>english</td>\n",
       "      <td>50</td>\n",
       "    </tr>\n",
       "    <tr>\n",
       "      <th>1</th>\n",
       "      <td>urdu</td>\n",
       "      <td>80</td>\n",
       "    </tr>\n",
       "    <tr>\n",
       "      <th>2</th>\n",
       "      <td>english</td>\n",
       "      <td>110</td>\n",
       "    </tr>\n",
       "    <tr>\n",
       "      <th>3</th>\n",
       "      <td>urdu</td>\n",
       "      <td>140</td>\n",
       "    </tr>\n",
       "    <tr>\n",
       "      <th>4</th>\n",
       "      <td>english</td>\n",
       "      <td>170</td>\n",
       "    </tr>\n",
       "    <tr>\n",
       "      <th>5</th>\n",
       "      <td>urdu</td>\n",
       "      <td>200</td>\n",
       "    </tr>\n",
       "    <tr>\n",
       "      <th>6</th>\n",
       "      <td>english</td>\n",
       "      <td>230</td>\n",
       "    </tr>\n",
       "    <tr>\n",
       "      <th>7</th>\n",
       "      <td>urdu</td>\n",
       "      <td>260</td>\n",
       "    </tr>\n",
       "    <tr>\n",
       "      <th>8</th>\n",
       "      <td>english</td>\n",
       "      <td>290</td>\n",
       "    </tr>\n",
       "    <tr>\n",
       "      <th>9</th>\n",
       "      <td>urdu</td>\n",
       "      <td>320</td>\n",
       "    </tr>\n",
       "  </tbody>\n",
       "</table>\n",
       "</div>"
      ],
      "text/plain": [
       "      Book  Marks\n",
       "0  english     50\n",
       "1     urdu     80\n",
       "2  english    110\n",
       "3     urdu    140\n",
       "4  english    170\n",
       "5     urdu    200\n",
       "6  english    230\n",
       "7     urdu    260\n",
       "8  english    290\n",
       "9     urdu    320"
      ]
     },
     "execution_count": 49,
     "metadata": {},
     "output_type": "execute_result"
    }
   ],
   "source": [
    "book.loc[0:9,(\"Book\",\"Marks\")]"
   ]
  },
  {
   "cell_type": "markdown",
   "metadata": {},
   "source": [
    "# Droping Column"
   ]
  },
  {
   "cell_type": "code",
   "execution_count": 51,
   "metadata": {},
   "outputs": [
    {
     "data": {
      "text/html": [
       "<div>\n",
       "<style scoped>\n",
       "    .dataframe tbody tr th:only-of-type {\n",
       "        vertical-align: middle;\n",
       "    }\n",
       "\n",
       "    .dataframe tbody tr th {\n",
       "        vertical-align: top;\n",
       "    }\n",
       "\n",
       "    .dataframe thead th {\n",
       "        text-align: right;\n",
       "    }\n",
       "</style>\n",
       "<table border=\"1\" class=\"dataframe\">\n",
       "  <thead>\n",
       "    <tr style=\"text-align: right;\">\n",
       "      <th></th>\n",
       "      <th>Name</th>\n",
       "      <th>Marks</th>\n",
       "      <th>fee</th>\n",
       "      <th>Distance</th>\n",
       "      <th>College</th>\n",
       "    </tr>\n",
       "  </thead>\n",
       "  <tbody>\n",
       "    <tr>\n",
       "      <th>0</th>\n",
       "      <td>Ahsan</td>\n",
       "      <td>50</td>\n",
       "      <td>50.000000</td>\n",
       "      <td>10</td>\n",
       "      <td>GC</td>\n",
       "    </tr>\n",
       "    <tr>\n",
       "      <th>1</th>\n",
       "      <td>Ali Raza</td>\n",
       "      <td>80</td>\n",
       "      <td>100.000000</td>\n",
       "      <td>20</td>\n",
       "      <td>GC</td>\n",
       "    </tr>\n",
       "    <tr>\n",
       "      <th>2</th>\n",
       "      <td>Ahsan</td>\n",
       "      <td>110</td>\n",
       "      <td>200.000000</td>\n",
       "      <td>30</td>\n",
       "      <td>GC</td>\n",
       "    </tr>\n",
       "    <tr>\n",
       "      <th>3</th>\n",
       "      <td>Ahsan</td>\n",
       "      <td>140</td>\n",
       "      <td>266.666667</td>\n",
       "      <td>40</td>\n",
       "      <td>GC</td>\n",
       "    </tr>\n",
       "    <tr>\n",
       "      <th>4</th>\n",
       "      <td>Ahsan</td>\n",
       "      <td>170</td>\n",
       "      <td>341.666667</td>\n",
       "      <td>50</td>\n",
       "      <td>GC</td>\n",
       "    </tr>\n",
       "    <tr>\n",
       "      <th>...</th>\n",
       "      <td>...</td>\n",
       "      <td>...</td>\n",
       "      <td>...</td>\n",
       "      <td>...</td>\n",
       "      <td>...</td>\n",
       "    </tr>\n",
       "    <tr>\n",
       "      <th>771</th>\n",
       "      <td>ali</td>\n",
       "      <td>7700</td>\n",
       "      <td>57366.666670</td>\n",
       "      <td>2560</td>\n",
       "      <td>GC</td>\n",
       "    </tr>\n",
       "    <tr>\n",
       "      <th>772</th>\n",
       "      <td>ali</td>\n",
       "      <td>7730</td>\n",
       "      <td>57591.666670</td>\n",
       "      <td>2570</td>\n",
       "      <td>GC</td>\n",
       "    </tr>\n",
       "    <tr>\n",
       "      <th>773</th>\n",
       "      <td>ali</td>\n",
       "      <td>7760</td>\n",
       "      <td>57816.666670</td>\n",
       "      <td>2580</td>\n",
       "      <td>GC</td>\n",
       "    </tr>\n",
       "    <tr>\n",
       "      <th>774</th>\n",
       "      <td>Ahsan</td>\n",
       "      <td>7790</td>\n",
       "      <td>58041.666670</td>\n",
       "      <td>2590</td>\n",
       "      <td>GC</td>\n",
       "    </tr>\n",
       "    <tr>\n",
       "      <th>775</th>\n",
       "      <td>Ahsan</td>\n",
       "      <td>7820</td>\n",
       "      <td>58266.666670</td>\n",
       "      <td>2600</td>\n",
       "      <td>NaN</td>\n",
       "    </tr>\n",
       "  </tbody>\n",
       "</table>\n",
       "<p>776 rows × 5 columns</p>\n",
       "</div>"
      ],
      "text/plain": [
       "        Name   Marks           fee  Distance College\n",
       "0       Ahsan     50     50.000000        10      GC\n",
       "1    Ali Raza     80    100.000000        20      GC\n",
       "2       Ahsan    110    200.000000        30      GC\n",
       "3       Ahsan    140    266.666667        40      GC\n",
       "4       Ahsan    170    341.666667        50      GC\n",
       "..        ...    ...           ...       ...     ...\n",
       "771       ali   7700  57366.666670      2560      GC\n",
       "772       ali   7730  57591.666670      2570      GC\n",
       "773       ali   7760  57816.666670      2580      GC\n",
       "774     Ahsan   7790  58041.666670      2590      GC\n",
       "775     Ahsan   7820  58266.666670      2600     NaN\n",
       "\n",
       "[776 rows x 5 columns]"
      ]
     },
     "execution_count": 51,
     "metadata": {},
     "output_type": "execute_result"
    }
   ],
   "source": [
    "book.drop(\"Book\", axis=1)"
   ]
  },
  {
   "cell_type": "markdown",
   "metadata": {},
   "source": [
    "# Droping Rows"
   ]
  },
  {
   "cell_type": "code",
   "execution_count": 239,
   "metadata": {},
   "outputs": [
    {
     "data": {
      "text/html": [
       "<div>\n",
       "<style scoped>\n",
       "    .dataframe tbody tr th:only-of-type {\n",
       "        vertical-align: middle;\n",
       "    }\n",
       "\n",
       "    .dataframe tbody tr th {\n",
       "        vertical-align: top;\n",
       "    }\n",
       "\n",
       "    .dataframe thead th {\n",
       "        text-align: right;\n",
       "    }\n",
       "</style>\n",
       "<table border=\"1\" class=\"dataframe\">\n",
       "  <thead>\n",
       "    <tr style=\"text-align: right;\">\n",
       "      <th></th>\n",
       "      <th>Name</th>\n",
       "      <th>Marks</th>\n",
       "      <th>Book</th>\n",
       "      <th>fee</th>\n",
       "      <th>Distance</th>\n",
       "    </tr>\n",
       "  </thead>\n",
       "  <tbody>\n",
       "    <tr>\n",
       "      <td>0</td>\n",
       "      <td>Ahsan</td>\n",
       "      <td>50</td>\n",
       "      <td>english</td>\n",
       "      <td>50.000000</td>\n",
       "      <td>10</td>\n",
       "    </tr>\n",
       "    <tr>\n",
       "      <td>1</td>\n",
       "      <td>Ali Raza</td>\n",
       "      <td>80</td>\n",
       "      <td>urdu</td>\n",
       "      <td>100.000000</td>\n",
       "      <td>20</td>\n",
       "    </tr>\n",
       "    <tr>\n",
       "      <td>2</td>\n",
       "      <td>Ahsan</td>\n",
       "      <td>110</td>\n",
       "      <td>english</td>\n",
       "      <td>200.000000</td>\n",
       "      <td>30</td>\n",
       "    </tr>\n",
       "    <tr>\n",
       "      <td>3</td>\n",
       "      <td>Ahsan</td>\n",
       "      <td>140</td>\n",
       "      <td>urdu</td>\n",
       "      <td>266.666667</td>\n",
       "      <td>40</td>\n",
       "    </tr>\n",
       "    <tr>\n",
       "      <td>4</td>\n",
       "      <td>Ahsan</td>\n",
       "      <td>170</td>\n",
       "      <td>english</td>\n",
       "      <td>341.666667</td>\n",
       "      <td>50</td>\n",
       "    </tr>\n",
       "    <tr>\n",
       "      <td>5</td>\n",
       "      <td>ali</td>\n",
       "      <td>200</td>\n",
       "      <td>urdu</td>\n",
       "      <td>416.666667</td>\n",
       "      <td>60</td>\n",
       "    </tr>\n",
       "    <tr>\n",
       "      <td>6</td>\n",
       "      <td>ali</td>\n",
       "      <td>230</td>\n",
       "      <td>english</td>\n",
       "      <td>491.666667</td>\n",
       "      <td>70</td>\n",
       "    </tr>\n",
       "    <tr>\n",
       "      <td>7</td>\n",
       "      <td>ali</td>\n",
       "      <td>260</td>\n",
       "      <td>urdu</td>\n",
       "      <td>566.666667</td>\n",
       "      <td>80</td>\n",
       "    </tr>\n",
       "    <tr>\n",
       "      <td>8</td>\n",
       "      <td>Ahsan</td>\n",
       "      <td>290</td>\n",
       "      <td>english</td>\n",
       "      <td>1791.666667</td>\n",
       "      <td>90</td>\n",
       "    </tr>\n",
       "    <tr>\n",
       "      <td>9</td>\n",
       "      <td>Ahsan</td>\n",
       "      <td>320</td>\n",
       "      <td>urdu</td>\n",
       "      <td>2016.666667</td>\n",
       "      <td>100</td>\n",
       "    </tr>\n",
       "  </tbody>\n",
       "</table>\n",
       "</div>"
      ],
      "text/plain": [
       "      Name   Marks     Book          fee  Distance\n",
       "0     Ahsan     50  english    50.000000        10\n",
       "1  Ali Raza     80     urdu   100.000000        20\n",
       "2     Ahsan    110  english   200.000000        30\n",
       "3     Ahsan    140     urdu   266.666667        40\n",
       "4     Ahsan    170  english   341.666667        50\n",
       "5       ali    200     urdu   416.666667        60\n",
       "6       ali    230  english   491.666667        70\n",
       "7       ali    260     urdu   566.666667        80\n",
       "8     Ahsan    290  english  1791.666667        90\n",
       "9     Ahsan    320     urdu  2016.666667       100"
      ]
     },
     "execution_count": 239,
     "metadata": {},
     "output_type": "execute_result"
    }
   ],
   "source": [
    "book.loc[0:9]"
   ]
  },
  {
   "cell_type": "code",
   "execution_count": 240,
   "metadata": {},
   "outputs": [
    {
     "data": {
      "text/html": [
       "<div>\n",
       "<style scoped>\n",
       "    .dataframe tbody tr th:only-of-type {\n",
       "        vertical-align: middle;\n",
       "    }\n",
       "\n",
       "    .dataframe tbody tr th {\n",
       "        vertical-align: top;\n",
       "    }\n",
       "\n",
       "    .dataframe thead th {\n",
       "        text-align: right;\n",
       "    }\n",
       "</style>\n",
       "<table border=\"1\" class=\"dataframe\">\n",
       "  <thead>\n",
       "    <tr style=\"text-align: right;\">\n",
       "      <th></th>\n",
       "      <th>Name</th>\n",
       "      <th>Marks</th>\n",
       "      <th>Book</th>\n",
       "      <th>fee</th>\n",
       "      <th>Distance</th>\n",
       "    </tr>\n",
       "  </thead>\n",
       "  <tbody>\n",
       "    <tr>\n",
       "      <td>0</td>\n",
       "      <td>Ahsan</td>\n",
       "      <td>50</td>\n",
       "      <td>english</td>\n",
       "      <td>50.000000</td>\n",
       "      <td>10</td>\n",
       "    </tr>\n",
       "    <tr>\n",
       "      <td>5</td>\n",
       "      <td>ali</td>\n",
       "      <td>200</td>\n",
       "      <td>urdu</td>\n",
       "      <td>416.666667</td>\n",
       "      <td>60</td>\n",
       "    </tr>\n",
       "    <tr>\n",
       "      <td>6</td>\n",
       "      <td>ali</td>\n",
       "      <td>230</td>\n",
       "      <td>english</td>\n",
       "      <td>491.666667</td>\n",
       "      <td>70</td>\n",
       "    </tr>\n",
       "    <tr>\n",
       "      <td>7</td>\n",
       "      <td>ali</td>\n",
       "      <td>260</td>\n",
       "      <td>urdu</td>\n",
       "      <td>566.666667</td>\n",
       "      <td>80</td>\n",
       "    </tr>\n",
       "    <tr>\n",
       "      <td>8</td>\n",
       "      <td>Ahsan</td>\n",
       "      <td>290</td>\n",
       "      <td>english</td>\n",
       "      <td>1791.666667</td>\n",
       "      <td>90</td>\n",
       "    </tr>\n",
       "    <tr>\n",
       "      <td>...</td>\n",
       "      <td>...</td>\n",
       "      <td>...</td>\n",
       "      <td>...</td>\n",
       "      <td>...</td>\n",
       "      <td>...</td>\n",
       "    </tr>\n",
       "    <tr>\n",
       "      <td>257</td>\n",
       "      <td>ali</td>\n",
       "      <td>7760</td>\n",
       "      <td>urdu</td>\n",
       "      <td>57816.666670</td>\n",
       "      <td>2580</td>\n",
       "    </tr>\n",
       "    <tr>\n",
       "      <td>258</td>\n",
       "      <td>Ahsan</td>\n",
       "      <td>7790</td>\n",
       "      <td>english</td>\n",
       "      <td>58041.666670</td>\n",
       "      <td>2590</td>\n",
       "    </tr>\n",
       "    <tr>\n",
       "      <td>259</td>\n",
       "      <td>Ahsan</td>\n",
       "      <td>7820</td>\n",
       "      <td>urdu</td>\n",
       "      <td>58266.666670</td>\n",
       "      <td>2600</td>\n",
       "    </tr>\n",
       "    <tr>\n",
       "      <td>260</td>\n",
       "      <td>ali</td>\n",
       "      <td>7850</td>\n",
       "      <td>english</td>\n",
       "      <td>58491.666670</td>\n",
       "      <td>2610</td>\n",
       "    </tr>\n",
       "    <tr>\n",
       "      <td>261</td>\n",
       "      <td>ali</td>\n",
       "      <td>7880</td>\n",
       "      <td>urdu</td>\n",
       "      <td>58716.666670</td>\n",
       "      <td>2620</td>\n",
       "    </tr>\n",
       "  </tbody>\n",
       "</table>\n",
       "<p>258 rows × 5 columns</p>\n",
       "</div>"
      ],
      "text/plain": [
       "     Name   Marks     Book           fee  Distance\n",
       "0    Ahsan     50  english     50.000000        10\n",
       "5      ali    200     urdu    416.666667        60\n",
       "6      ali    230  english    491.666667        70\n",
       "7      ali    260     urdu    566.666667        80\n",
       "8    Ahsan    290  english   1791.666667        90\n",
       "..     ...    ...      ...           ...       ...\n",
       "257    ali   7760     urdu  57816.666670      2580\n",
       "258  Ahsan   7790  english  58041.666670      2590\n",
       "259  Ahsan   7820     urdu  58266.666670      2600\n",
       "260    ali   7850  english  58491.666670      2610\n",
       "261    ali   7880     urdu  58716.666670      2620\n",
       "\n",
       "[258 rows x 5 columns]"
      ]
     },
     "execution_count": 240,
     "metadata": {},
     "output_type": "execute_result"
    }
   ],
   "source": [
    "book.drop([1,2,3,4],axis=0)"
   ]
  },
  {
   "cell_type": "markdown",
   "metadata": {},
   "source": [
    "## More Pandas Function\n",
    "\n",
    "- 1- Mean \n",
    "- 2- Minimum\n",
    "- 3-Median\n",
    "- 4-Maximum"
   ]
  },
  {
   "cell_type": "code",
   "execution_count": 242,
   "metadata": {},
   "outputs": [
    {
     "data": {
      "text/plain": [
       "Marks        3965.000000\n",
       "fee         29339.662853\n",
       "Distance     1315.000000\n",
       "dtype: float64"
      ]
     },
     "execution_count": 242,
     "metadata": {},
     "output_type": "execute_result"
    }
   ],
   "source": [
    "book.mean()"
   ]
  },
  {
   "cell_type": "code",
   "execution_count": 243,
   "metadata": {},
   "outputs": [
    {
     "data": {
      "text/plain": [
       "Name          Ahsan\n",
       "Marks            50\n",
       "Book        english\n",
       "fee              50\n",
       "Distance         10\n",
       "dtype: object"
      ]
     },
     "execution_count": 243,
     "metadata": {},
     "output_type": "execute_result"
    }
   ],
   "source": [
    "book.min()"
   ]
  },
  {
   "cell_type": "code",
   "execution_count": 244,
   "metadata": {},
   "outputs": [
    {
     "data": {
      "text/plain": [
       "Marks        3965.00000\n",
       "fee         29354.16667\n",
       "Distance     1315.00000\n",
       "dtype: float64"
      ]
     },
     "execution_count": 244,
     "metadata": {},
     "output_type": "execute_result"
    }
   ],
   "source": [
    "book.median()"
   ]
  },
  {
   "cell_type": "code",
   "execution_count": 245,
   "metadata": {},
   "outputs": [
    {
     "data": {
      "text/plain": [
       "Name            ali\n",
       "Marks          7880\n",
       "Book           urdu\n",
       "fee         58716.7\n",
       "Distance       2620\n",
       "dtype: object"
      ]
     },
     "execution_count": 245,
     "metadata": {},
     "output_type": "execute_result"
    }
   ],
   "source": [
    "book.max()"
   ]
  },
  {
   "cell_type": "markdown",
   "metadata": {},
   "source": [
    "## More Pandas Function"
   ]
  },
  {
   "cell_type": "code",
   "execution_count": 246,
   "metadata": {},
   "outputs": [
    {
     "data": {
      "text/html": [
       "<div>\n",
       "<style scoped>\n",
       "    .dataframe tbody tr th:only-of-type {\n",
       "        vertical-align: middle;\n",
       "    }\n",
       "\n",
       "    .dataframe tbody tr th {\n",
       "        vertical-align: top;\n",
       "    }\n",
       "\n",
       "    .dataframe thead th {\n",
       "        text-align: right;\n",
       "    }\n",
       "</style>\n",
       "<table border=\"1\" class=\"dataframe\">\n",
       "  <thead>\n",
       "    <tr style=\"text-align: right;\">\n",
       "      <th></th>\n",
       "      <th>Name</th>\n",
       "      <th>Marks</th>\n",
       "      <th>Book</th>\n",
       "      <th>fee</th>\n",
       "      <th>Distance</th>\n",
       "    </tr>\n",
       "  </thead>\n",
       "  <tbody>\n",
       "    <tr>\n",
       "      <td>0</td>\n",
       "      <td>Ahsan</td>\n",
       "      <td>50</td>\n",
       "      <td>english</td>\n",
       "      <td>50.000000</td>\n",
       "      <td>10</td>\n",
       "    </tr>\n",
       "    <tr>\n",
       "      <td>1</td>\n",
       "      <td>Ali Raza</td>\n",
       "      <td>80</td>\n",
       "      <td>urdu</td>\n",
       "      <td>100.000000</td>\n",
       "      <td>20</td>\n",
       "    </tr>\n",
       "    <tr>\n",
       "      <td>2</td>\n",
       "      <td>Ahsan</td>\n",
       "      <td>110</td>\n",
       "      <td>english</td>\n",
       "      <td>200.000000</td>\n",
       "      <td>30</td>\n",
       "    </tr>\n",
       "    <tr>\n",
       "      <td>3</td>\n",
       "      <td>Ahsan</td>\n",
       "      <td>140</td>\n",
       "      <td>urdu</td>\n",
       "      <td>266.666667</td>\n",
       "      <td>40</td>\n",
       "    </tr>\n",
       "    <tr>\n",
       "      <td>4</td>\n",
       "      <td>Ahsan</td>\n",
       "      <td>170</td>\n",
       "      <td>english</td>\n",
       "      <td>341.666667</td>\n",
       "      <td>50</td>\n",
       "    </tr>\n",
       "  </tbody>\n",
       "</table>\n",
       "</div>"
      ],
      "text/plain": [
       "      Name   Marks     Book         fee  Distance\n",
       "0     Ahsan     50  english   50.000000        10\n",
       "1  Ali Raza     80     urdu  100.000000        20\n",
       "2     Ahsan    110  english  200.000000        30\n",
       "3     Ahsan    140     urdu  266.666667        40\n",
       "4     Ahsan    170  english  341.666667        50"
      ]
     },
     "execution_count": 246,
     "metadata": {},
     "output_type": "execute_result"
    }
   ],
   "source": [
    "book.head()"
   ]
  },
  {
   "cell_type": "code",
   "execution_count": 247,
   "metadata": {},
   "outputs": [],
   "source": [
    "def half(s):\n",
    "    return s*0.5"
   ]
  },
  {
   "cell_type": "code",
   "execution_count": 248,
   "metadata": {},
   "outputs": [
    {
     "data": {
      "text/html": [
       "<div>\n",
       "<style scoped>\n",
       "    .dataframe tbody tr th:only-of-type {\n",
       "        vertical-align: middle;\n",
       "    }\n",
       "\n",
       "    .dataframe tbody tr th {\n",
       "        vertical-align: top;\n",
       "    }\n",
       "\n",
       "    .dataframe thead th {\n",
       "        text-align: right;\n",
       "    }\n",
       "</style>\n",
       "<table border=\"1\" class=\"dataframe\">\n",
       "  <thead>\n",
       "    <tr style=\"text-align: right;\">\n",
       "      <th></th>\n",
       "      <th>Marks</th>\n",
       "      <th>fee</th>\n",
       "    </tr>\n",
       "  </thead>\n",
       "  <tbody>\n",
       "    <tr>\n",
       "      <td>0</td>\n",
       "      <td>25.0</td>\n",
       "      <td>25.000000</td>\n",
       "    </tr>\n",
       "    <tr>\n",
       "      <td>1</td>\n",
       "      <td>40.0</td>\n",
       "      <td>50.000000</td>\n",
       "    </tr>\n",
       "    <tr>\n",
       "      <td>2</td>\n",
       "      <td>55.0</td>\n",
       "      <td>100.000000</td>\n",
       "    </tr>\n",
       "    <tr>\n",
       "      <td>3</td>\n",
       "      <td>70.0</td>\n",
       "      <td>133.333333</td>\n",
       "    </tr>\n",
       "    <tr>\n",
       "      <td>4</td>\n",
       "      <td>85.0</td>\n",
       "      <td>170.833333</td>\n",
       "    </tr>\n",
       "    <tr>\n",
       "      <td>...</td>\n",
       "      <td>...</td>\n",
       "      <td>...</td>\n",
       "    </tr>\n",
       "    <tr>\n",
       "      <td>257</td>\n",
       "      <td>3880.0</td>\n",
       "      <td>28908.333335</td>\n",
       "    </tr>\n",
       "    <tr>\n",
       "      <td>258</td>\n",
       "      <td>3895.0</td>\n",
       "      <td>29020.833335</td>\n",
       "    </tr>\n",
       "    <tr>\n",
       "      <td>259</td>\n",
       "      <td>3910.0</td>\n",
       "      <td>29133.333335</td>\n",
       "    </tr>\n",
       "    <tr>\n",
       "      <td>260</td>\n",
       "      <td>3925.0</td>\n",
       "      <td>29245.833335</td>\n",
       "    </tr>\n",
       "    <tr>\n",
       "      <td>261</td>\n",
       "      <td>3940.0</td>\n",
       "      <td>29358.333335</td>\n",
       "    </tr>\n",
       "  </tbody>\n",
       "</table>\n",
       "<p>262 rows × 2 columns</p>\n",
       "</div>"
      ],
      "text/plain": [
       "      Marks           fee\n",
       "0      25.0     25.000000\n",
       "1      40.0     50.000000\n",
       "2      55.0    100.000000\n",
       "3      70.0    133.333333\n",
       "4      85.0    170.833333\n",
       "..      ...           ...\n",
       "257  3880.0  28908.333335\n",
       "258  3895.0  29020.833335\n",
       "259  3910.0  29133.333335\n",
       "260  3925.0  29245.833335\n",
       "261  3940.0  29358.333335\n",
       "\n",
       "[262 rows x 2 columns]"
      ]
     },
     "execution_count": 248,
     "metadata": {},
     "output_type": "execute_result"
    }
   ],
   "source": [
    "book[[\"Marks\",\"fee\"]].apply(half)"
   ]
  },
  {
   "cell_type": "code",
   "execution_count": 249,
   "metadata": {},
   "outputs": [],
   "source": [
    "def double(s):\n",
    "    return s*2"
   ]
  },
  {
   "cell_type": "code",
   "execution_count": 250,
   "metadata": {},
   "outputs": [
    {
     "data": {
      "text/html": [
       "<div>\n",
       "<style scoped>\n",
       "    .dataframe tbody tr th:only-of-type {\n",
       "        vertical-align: middle;\n",
       "    }\n",
       "\n",
       "    .dataframe tbody tr th {\n",
       "        vertical-align: top;\n",
       "    }\n",
       "\n",
       "    .dataframe thead th {\n",
       "        text-align: right;\n",
       "    }\n",
       "</style>\n",
       "<table border=\"1\" class=\"dataframe\">\n",
       "  <thead>\n",
       "    <tr style=\"text-align: right;\">\n",
       "      <th></th>\n",
       "      <th>Marks</th>\n",
       "      <th>fee</th>\n",
       "    </tr>\n",
       "  </thead>\n",
       "  <tbody>\n",
       "    <tr>\n",
       "      <td>0</td>\n",
       "      <td>100</td>\n",
       "      <td>100.000000</td>\n",
       "    </tr>\n",
       "    <tr>\n",
       "      <td>1</td>\n",
       "      <td>160</td>\n",
       "      <td>200.000000</td>\n",
       "    </tr>\n",
       "    <tr>\n",
       "      <td>2</td>\n",
       "      <td>220</td>\n",
       "      <td>400.000000</td>\n",
       "    </tr>\n",
       "    <tr>\n",
       "      <td>3</td>\n",
       "      <td>280</td>\n",
       "      <td>533.333333</td>\n",
       "    </tr>\n",
       "    <tr>\n",
       "      <td>4</td>\n",
       "      <td>340</td>\n",
       "      <td>683.333333</td>\n",
       "    </tr>\n",
       "    <tr>\n",
       "      <td>...</td>\n",
       "      <td>...</td>\n",
       "      <td>...</td>\n",
       "    </tr>\n",
       "    <tr>\n",
       "      <td>257</td>\n",
       "      <td>15520</td>\n",
       "      <td>115633.333340</td>\n",
       "    </tr>\n",
       "    <tr>\n",
       "      <td>258</td>\n",
       "      <td>15580</td>\n",
       "      <td>116083.333340</td>\n",
       "    </tr>\n",
       "    <tr>\n",
       "      <td>259</td>\n",
       "      <td>15640</td>\n",
       "      <td>116533.333340</td>\n",
       "    </tr>\n",
       "    <tr>\n",
       "      <td>260</td>\n",
       "      <td>15700</td>\n",
       "      <td>116983.333340</td>\n",
       "    </tr>\n",
       "    <tr>\n",
       "      <td>261</td>\n",
       "      <td>15760</td>\n",
       "      <td>117433.333340</td>\n",
       "    </tr>\n",
       "  </tbody>\n",
       "</table>\n",
       "<p>262 rows × 2 columns</p>\n",
       "</div>"
      ],
      "text/plain": [
       "     Marks            fee\n",
       "0      100     100.000000\n",
       "1      160     200.000000\n",
       "2      220     400.000000\n",
       "3      280     533.333333\n",
       "4      340     683.333333\n",
       "..     ...            ...\n",
       "257  15520  115633.333340\n",
       "258  15580  116083.333340\n",
       "259  15640  116533.333340\n",
       "260  15700  116983.333340\n",
       "261  15760  117433.333340\n",
       "\n",
       "[262 rows x 2 columns]"
      ]
     },
     "execution_count": 250,
     "metadata": {},
     "output_type": "execute_result"
    }
   ],
   "source": [
    "book[[\"Marks\",\"fee\"]].apply(double_value)"
   ]
  },
  {
   "cell_type": "markdown",
   "metadata": {},
   "source": [
    "# Value Count"
   ]
  },
  {
   "cell_type": "code",
   "execution_count": 251,
   "metadata": {},
   "outputs": [
    {
     "data": {
      "text/plain": [
       "english    131\n",
       "urdu       131\n",
       "Name: Book, dtype: int64"
      ]
     },
     "execution_count": 251,
     "metadata": {},
     "output_type": "execute_result"
    }
   ],
   "source": [
    "book[('Book')].value_counts()"
   ]
  },
  {
   "cell_type": "code",
   "execution_count": 252,
   "metadata": {},
   "outputs": [
    {
     "data": {
      "text/html": [
       "<div>\n",
       "<style scoped>\n",
       "    .dataframe tbody tr th:only-of-type {\n",
       "        vertical-align: middle;\n",
       "    }\n",
       "\n",
       "    .dataframe tbody tr th {\n",
       "        vertical-align: top;\n",
       "    }\n",
       "\n",
       "    .dataframe thead th {\n",
       "        text-align: right;\n",
       "    }\n",
       "</style>\n",
       "<table border=\"1\" class=\"dataframe\">\n",
       "  <thead>\n",
       "    <tr style=\"text-align: right;\">\n",
       "      <th></th>\n",
       "      <th>Name</th>\n",
       "      <th>Marks</th>\n",
       "      <th>Book</th>\n",
       "      <th>fee</th>\n",
       "      <th>Distance</th>\n",
       "    </tr>\n",
       "  </thead>\n",
       "  <tbody>\n",
       "    <tr>\n",
       "      <td>0</td>\n",
       "      <td>Ahsan</td>\n",
       "      <td>50</td>\n",
       "      <td>english</td>\n",
       "      <td>50.000000</td>\n",
       "      <td>10</td>\n",
       "    </tr>\n",
       "    <tr>\n",
       "      <td>1</td>\n",
       "      <td>Ali Raza</td>\n",
       "      <td>80</td>\n",
       "      <td>urdu</td>\n",
       "      <td>100.000000</td>\n",
       "      <td>20</td>\n",
       "    </tr>\n",
       "    <tr>\n",
       "      <td>2</td>\n",
       "      <td>Ahsan</td>\n",
       "      <td>110</td>\n",
       "      <td>english</td>\n",
       "      <td>200.000000</td>\n",
       "      <td>30</td>\n",
       "    </tr>\n",
       "    <tr>\n",
       "      <td>3</td>\n",
       "      <td>Ahsan</td>\n",
       "      <td>140</td>\n",
       "      <td>urdu</td>\n",
       "      <td>266.666667</td>\n",
       "      <td>40</td>\n",
       "    </tr>\n",
       "    <tr>\n",
       "      <td>4</td>\n",
       "      <td>Ahsan</td>\n",
       "      <td>170</td>\n",
       "      <td>english</td>\n",
       "      <td>341.666667</td>\n",
       "      <td>50</td>\n",
       "    </tr>\n",
       "    <tr>\n",
       "      <td>...</td>\n",
       "      <td>...</td>\n",
       "      <td>...</td>\n",
       "      <td>...</td>\n",
       "      <td>...</td>\n",
       "      <td>...</td>\n",
       "    </tr>\n",
       "    <tr>\n",
       "      <td>257</td>\n",
       "      <td>ali</td>\n",
       "      <td>7760</td>\n",
       "      <td>urdu</td>\n",
       "      <td>57816.666670</td>\n",
       "      <td>2580</td>\n",
       "    </tr>\n",
       "    <tr>\n",
       "      <td>258</td>\n",
       "      <td>Ahsan</td>\n",
       "      <td>7790</td>\n",
       "      <td>english</td>\n",
       "      <td>58041.666670</td>\n",
       "      <td>2590</td>\n",
       "    </tr>\n",
       "    <tr>\n",
       "      <td>259</td>\n",
       "      <td>Ahsan</td>\n",
       "      <td>7820</td>\n",
       "      <td>urdu</td>\n",
       "      <td>58266.666670</td>\n",
       "      <td>2600</td>\n",
       "    </tr>\n",
       "    <tr>\n",
       "      <td>260</td>\n",
       "      <td>ali</td>\n",
       "      <td>7850</td>\n",
       "      <td>english</td>\n",
       "      <td>58491.666670</td>\n",
       "      <td>2610</td>\n",
       "    </tr>\n",
       "    <tr>\n",
       "      <td>261</td>\n",
       "      <td>ali</td>\n",
       "      <td>7880</td>\n",
       "      <td>urdu</td>\n",
       "      <td>58716.666670</td>\n",
       "      <td>2620</td>\n",
       "    </tr>\n",
       "  </tbody>\n",
       "</table>\n",
       "<p>262 rows × 5 columns</p>\n",
       "</div>"
      ],
      "text/plain": [
       "        Name   Marks     Book           fee  Distance\n",
       "0       Ahsan     50  english     50.000000        10\n",
       "1    Ali Raza     80     urdu    100.000000        20\n",
       "2       Ahsan    110  english    200.000000        30\n",
       "3       Ahsan    140     urdu    266.666667        40\n",
       "4       Ahsan    170  english    341.666667        50\n",
       "..        ...    ...      ...           ...       ...\n",
       "257       ali   7760     urdu  57816.666670      2580\n",
       "258     Ahsan   7790  english  58041.666670      2590\n",
       "259     Ahsan   7820     urdu  58266.666670      2600\n",
       "260       ali   7850  english  58491.666670      2610\n",
       "261       ali   7880     urdu  58716.666670      2620\n",
       "\n",
       "[262 rows x 5 columns]"
      ]
     },
     "execution_count": 252,
     "metadata": {},
     "output_type": "execute_result"
    }
   ],
   "source": [
    "book.sort_values(by='fee')"
   ]
  },
  {
   "cell_type": "code",
   "execution_count": null,
   "metadata": {},
   "outputs": [],
   "source": []
  }
 ],
 "metadata": {
  "kernelspec": {
   "display_name": "Python 3",
   "language": "python",
   "name": "python3"
  },
  "language_info": {
   "codemirror_mode": {
    "name": "ipython",
    "version": 3
   },
   "file_extension": ".py",
   "mimetype": "text/x-python",
   "name": "python",
   "nbconvert_exporter": "python",
   "pygments_lexer": "ipython3",
   "version": "3.8.5"
  }
 },
 "nbformat": 4,
 "nbformat_minor": 2
}
